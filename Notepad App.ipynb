{
 "cells": [
  {
   "cell_type": "code",
   "execution_count": 11,
   "id": "7dd4aba9",
   "metadata": {},
   "outputs": [],
   "source": [
    "# !pip install reportlab"
   ]
  },
  {
   "cell_type": "code",
   "execution_count": 13,
   "id": "fc2be135",
   "metadata": {},
   "outputs": [],
   "source": [
    "import tkinter as tk\n",
    "from tkinter import filedialog\n",
    "from reportlab.lib.pagesizes import letter\n",
    "from reportlab.pdfgen import canvas\n",
    "\n",
    "# Function to save text file\n",
    "def save_text_file():\n",
    "    file_path = filedialog.asksaveasfilename(defaultextension=\".txt\")\n",
    "    if file_path:\n",
    "        with open(file_path, 'w') as file:\n",
    "            file.write(notes_text.get('1.0', tk.END))\n",
    "\n",
    "# Function to save PDF file\n",
    "def save_pdf_file():\n",
    "    file_path = filedialog.asksaveasfilename(defaultextension=\".pdf\")\n",
    "    if file_path:\n",
    "        pdf = canvas.Canvas(file_path, pagesize=letter)\n",
    "        \n",
    "        # Get the text from the text area\n",
    "        text_content = notes_text.get('1.0', tk.END).strip()\n",
    "        \n",
    "        # Split the text into lines to ensure proper line breaks\n",
    "        lines = text_content.split('\\n')\n",
    "        \n",
    "        # Set the initial y-coordinate for drawing the text\n",
    "        y = 750\n",
    "        \n",
    "        # Draw each line of text on the PDF canvas\n",
    "        for line in lines:\n",
    "            pdf.drawString(100, y, line)\n",
    "            # Move to the next line\n",
    "            y -= 20  # Adjust this value to control the line spacing\n",
    "        \n",
    "        # Save the PDF file\n",
    "        pdf.save()\n",
    "\n",
    "\n",
    "\n",
    "# Creating the main window\n",
    "root = tk.Tk()\n",
    "root.title('GB TEXT EDITOR')\n",
    "root.geometry('600x600')\n",
    "\n",
    "# Creating a text area for notes\n",
    "notes_text = tk.Text(root)\n",
    "notes_text.pack(expand=True, fill='both')\n",
    "\n",
    "# Button to save as text\n",
    "save_text_button = tk.Button(root, text=\"Save as Text\", command=save_text_file)\n",
    "save_text_button.pack(side=\"left\", padx=10, pady=10)\n",
    "\n",
    "# Button to save as PDF\n",
    "save_pdf_button = tk.Button(root, text=\"Save as PDF\", command=save_pdf_file)\n",
    "save_pdf_button.pack(side=\"right\", padx=10, pady=10)\n",
    "\n",
    "# Start the application\n",
    "root.mainloop()\n"
   ]
  },
  {
   "cell_type": "code",
   "execution_count": null,
   "id": "8ce2d7b1",
   "metadata": {},
   "outputs": [],
   "source": []
  }
 ],
 "metadata": {
  "kernelspec": {
   "display_name": "Python 3 (ipykernel)",
   "language": "python",
   "name": "python3"
  },
  "language_info": {
   "codemirror_mode": {
    "name": "ipython",
    "version": 3
   },
   "file_extension": ".py",
   "mimetype": "text/x-python",
   "name": "python",
   "nbconvert_exporter": "python",
   "pygments_lexer": "ipython3",
   "version": "3.11.5"
  }
 },
 "nbformat": 4,
 "nbformat_minor": 5
}
